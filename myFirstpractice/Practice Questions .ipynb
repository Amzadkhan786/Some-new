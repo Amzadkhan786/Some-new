{
 "cells": [
  {
   "cell_type": "code",
   "execution_count": 1,
   "id": "aeb4cd1a",
   "metadata": {},
   "outputs": [
    {
     "name": "stdout",
     "output_type": "stream",
     "text": [
      "Hellow World\n"
     ]
    }
   ],
   "source": [
    "print(\"Hellow World\")"
   ]
  },
  {
   "cell_type": "code",
   "execution_count": 10,
   "id": "27efc3c6",
   "metadata": {},
   "outputs": [
    {
     "name": "stdout",
     "output_type": "stream",
     "text": [
      "x value is 4\n"
     ]
    }
   ],
   "source": [
    "x= 5*2-2*3\n",
    "print(\"x value is\", x)\n"
   ]
  },
  {
   "cell_type": "code",
   "execution_count": 11,
   "id": "19e87db4",
   "metadata": {},
   "outputs": [
    {
     "name": "stdout",
     "output_type": "stream",
     "text": [
      "x value is 15.0\n"
     ]
    }
   ],
   "source": [
    "x=5*2/2*3\n",
    "print(\"x value is\",x)"
   ]
  },
  {
   "cell_type": "code",
   "execution_count": 12,
   "id": "bff8a38b",
   "metadata": {},
   "outputs": [
    {
     "name": "stdout",
     "output_type": "stream",
     "text": [
      "x value is 15.0\n"
     ]
    }
   ],
   "source": [
    "x=5*(2/2)*3\n",
    "print(\"x value is\",x)"
   ]
  },
  {
   "cell_type": "code",
   "execution_count": null,
   "id": "a167b5c5",
   "metadata": {},
   "outputs": [],
   "source": []
  }
 ],
 "metadata": {
  "kernelspec": {
   "display_name": "Python 3 (ipykernel)",
   "language": "python",
   "name": "python3"
  },
  "language_info": {
   "codemirror_mode": {
    "name": "ipython",
    "version": 3
   },
   "file_extension": ".py",
   "mimetype": "text/x-python",
   "name": "python",
   "nbconvert_exporter": "python",
   "pygments_lexer": "ipython3",
   "version": "3.10.9"
  }
 },
 "nbformat": 4,
 "nbformat_minor": 5
}
